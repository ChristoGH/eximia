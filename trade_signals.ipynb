{
 "cells": [
  {
   "cell_type": "markdown",
   "metadata": {},
   "source": [
    "```\n",
    "See also /media/lnr-ai/christo/github_repos/eximia/data_prep.py\n",
    "```"
   ]
  },
  {
   "cell_type": "code",
   "execution_count": 1,
   "metadata": {},
   "outputs": [],
   "source": [
    "import pandas as pd\n",
    "import numpy as np"
   ]
  },
  {
   "cell_type": "code",
   "execution_count": 2,
   "metadata": {},
   "outputs": [],
   "source": [
    "import sys\n",
    "sys.path.append(\"/media/lnr-ai/christo/github_repos/eximia/\")\n",
    "sys.path.append(\"/home/lnr-ai/github_repos/fxcm/\")\n",
    "\n",
    "import os\n",
    "os.chdir('/media/lnr-ai/christo/github_repos/eximia/')\n",
    "# import pandas as pd\n",
    "import logging\n",
    "# import numpy as np\n",
    "import calendar\n",
    "import datetime as datetime\n",
    "from datetime import datetime as dt\n",
    "from pandas import Timestamp\n",
    "from pandas.tseries.offsets import BDay\n",
    "from fxcm_timezone_lib import london_timestamp, ny_timestamp, jhb_timestamp\n",
    "#from datetime import datetime\n",
    "import sys\n",
    "from data_prep_lib import eximia_wrangle_fn,MP_DUKA_DATETIME_FORMAT, duka_tick_prep_fn\n",
    "from data_prep_lib import MP_FXCM_DATETIME_FORMAT\n",
    "from data_prep_lib import pkl_dump, pkl_load\n",
    "from sklearn.model_selection import train_test_split\n",
    "from sklearn.preprocessing import StandardScaler\n",
    "import pickle"
   ]
  },
  {
   "cell_type": "code",
   "execution_count": 3,
   "metadata": {},
   "outputs": [],
   "source": [
    "data_path='/media/lnr-ai/christo/github_repos/eximia/data/'\n",
    "bname='USDZAR_Candlestick_5_M_BID_01.01.2019-08.02.2020'\n",
    "#%%\n",
    "image_name='{bname}_imaged'.format(bname=bname)\n",
    "output_df_name='{bname}_output_df.csv'.format(bname=bname)\n",
    "response_file_name='{bname}_response_df'.format(bname=bname)\n",
    "wrangled_file_name='{bname}_wrangled'.format(bname=bname)\n",
    "cleaned_file_name='{bname}_cleaned'.format(bname=bname)\n",
    "train_file_name='{bname}_train'.format(bname=bname)\n",
    "test_file_name='{bname}_test'.format(bname=bname)\n",
    "val_file_name='{bname}_val'.format(bname=bname)"
   ]
  },
  {
   "cell_type": "code",
   "execution_count": null,
   "metadata": {},
   "outputs": [],
   "source": []
  }
 ],
 "metadata": {
  "kernelspec": {
   "display_name": "Python 3",
   "language": "python",
   "name": "python3"
  },
  "language_info": {
   "codemirror_mode": {
    "name": "ipython",
    "version": 3
   },
   "file_extension": ".py",
   "mimetype": "text/x-python",
   "name": "python",
   "nbconvert_exporter": "python",
   "pygments_lexer": "ipython3",
   "version": "3.7.6"
  }
 },
 "nbformat": 4,
 "nbformat_minor": 4
}
